{
 "cells": [
  {
   "cell_type": "markdown",
   "metadata": {},
   "source": [
    "## Task A"
   ]
  },
  {
   "cell_type": "code",
   "execution_count": 14,
   "metadata": {},
   "outputs": [],
   "source": [
    "import pandas as pd\n",
    "import numpy as np\n",
    "from matplotlib import pyplot as plt"
   ]
  },
  {
   "cell_type": "code",
   "execution_count": 15,
   "metadata": {},
   "outputs": [
    {
     "data": {
      "text/html": [
       "<div>\n",
       "<style scoped>\n",
       "    .dataframe tbody tr th:only-of-type {\n",
       "        vertical-align: middle;\n",
       "    }\n",
       "\n",
       "    .dataframe tbody tr th {\n",
       "        vertical-align: top;\n",
       "    }\n",
       "\n",
       "    .dataframe thead th {\n",
       "        text-align: right;\n",
       "    }\n",
       "</style>\n",
       "<table border=\"1\" class=\"dataframe\">\n",
       "  <thead>\n",
       "    <tr style=\"text-align: right;\">\n",
       "      <th></th>\n",
       "      <th>y</th>\n",
       "      <th>proba</th>\n",
       "    </tr>\n",
       "  </thead>\n",
       "  <tbody>\n",
       "    <tr>\n",
       "      <th>0</th>\n",
       "      <td>1.0</td>\n",
       "      <td>0.637387</td>\n",
       "    </tr>\n",
       "    <tr>\n",
       "      <th>1</th>\n",
       "      <td>1.0</td>\n",
       "      <td>0.635165</td>\n",
       "    </tr>\n",
       "    <tr>\n",
       "      <th>2</th>\n",
       "      <td>1.0</td>\n",
       "      <td>0.766586</td>\n",
       "    </tr>\n",
       "    <tr>\n",
       "      <th>3</th>\n",
       "      <td>1.0</td>\n",
       "      <td>0.724564</td>\n",
       "    </tr>\n",
       "    <tr>\n",
       "      <th>4</th>\n",
       "      <td>1.0</td>\n",
       "      <td>0.889199</td>\n",
       "    </tr>\n",
       "  </tbody>\n",
       "</table>\n",
       "</div>"
      ],
      "text/plain": [
       "     y     proba\n",
       "0  1.0  0.637387\n",
       "1  1.0  0.635165\n",
       "2  1.0  0.766586\n",
       "3  1.0  0.724564\n",
       "4  1.0  0.889199"
      ]
     },
     "execution_count": 15,
     "metadata": {},
     "output_type": "execute_result"
    }
   ],
   "source": [
    "df_a=pd.read_csv('5_a.csv')\n",
    "df_a.head()"
   ]
  },
  {
   "cell_type": "code",
   "execution_count": 16,
   "metadata": {},
   "outputs": [
    {
     "data": {
      "text/html": [
       "<div>\n",
       "<style scoped>\n",
       "    .dataframe tbody tr th:only-of-type {\n",
       "        vertical-align: middle;\n",
       "    }\n",
       "\n",
       "    .dataframe tbody tr th {\n",
       "        vertical-align: top;\n",
       "    }\n",
       "\n",
       "    .dataframe thead th {\n",
       "        text-align: right;\n",
       "    }\n",
       "</style>\n",
       "<table border=\"1\" class=\"dataframe\">\n",
       "  <thead>\n",
       "    <tr style=\"text-align: right;\">\n",
       "      <th></th>\n",
       "      <th>y</th>\n",
       "      <th>proba</th>\n",
       "      <th>y_cap</th>\n",
       "    </tr>\n",
       "  </thead>\n",
       "  <tbody>\n",
       "    <tr>\n",
       "      <th>0</th>\n",
       "      <td>1.0</td>\n",
       "      <td>0.637387</td>\n",
       "      <td>1</td>\n",
       "    </tr>\n",
       "    <tr>\n",
       "      <th>1</th>\n",
       "      <td>1.0</td>\n",
       "      <td>0.635165</td>\n",
       "      <td>1</td>\n",
       "    </tr>\n",
       "    <tr>\n",
       "      <th>2</th>\n",
       "      <td>1.0</td>\n",
       "      <td>0.766586</td>\n",
       "      <td>1</td>\n",
       "    </tr>\n",
       "    <tr>\n",
       "      <th>3</th>\n",
       "      <td>1.0</td>\n",
       "      <td>0.724564</td>\n",
       "      <td>1</td>\n",
       "    </tr>\n",
       "    <tr>\n",
       "      <th>4</th>\n",
       "      <td>1.0</td>\n",
       "      <td>0.889199</td>\n",
       "      <td>1</td>\n",
       "    </tr>\n",
       "  </tbody>\n",
       "</table>\n",
       "</div>"
      ],
      "text/plain": [
       "     y     proba  y_cap\n",
       "0  1.0  0.637387      1\n",
       "1  1.0  0.635165      1\n",
       "2  1.0  0.766586      1\n",
       "3  1.0  0.724564      1\n",
       "4  1.0  0.889199      1"
      ]
     },
     "execution_count": 16,
     "metadata": {},
     "output_type": "execute_result"
    }
   ],
   "source": [
    "#this will create a new column y_cap with values 1 if prob of prob >= 0.5 and 0 if prob < 0.5\n",
    "def threshold(dataset):\n",
    "    \n",
    "    if dataset['proba'] >= 0.5:\n",
    "        y_cap = int(1)\n",
    "    else:\n",
    "        y_cap = int(0)\n",
    "    return y_cap\n",
    "\n",
    "df_a['y_cap'] = df_a.apply(threshold, axis = 1)\n",
    "df_a.head()\n",
    "#del df_a['proba']"
   ]
  },
  {
   "cell_type": "code",
   "execution_count": 18,
   "metadata": {},
   "outputs": [
    {
     "name": "stdout",
     "output_type": "stream",
     "text": [
      "The confusion matrix is: [[10000, 0], [100, 0]] \n",
      "The precision and recall is: 1.0 and 0.9900990099009901 \n",
      "The f1 score and accuracy score is 0.9950248756218906 and accuracy_score 0.9900990099009901\n"
     ]
    }
   ],
   "source": [
    "#We will apply a condition on the dataset to calculate the confusion matrix elements and calcuate precision, recall, f1 score\n",
    "#accuracy score and confusion matrix\n",
    "\n",
    "def condition(df): \n",
    "    tn = 0\n",
    "    fn = 0\n",
    "    fp = 0\n",
    "    tp = 0\n",
    "    \n",
    "    if df['y'] == 0 and df['y_cap'] == 0:\n",
    "        tn+=1\n",
    "    elif df['y'] == 0 and df['y_cap'] == 1:\n",
    "        fp+=1\n",
    "    elif df['y'] == 1 and df['y_cap'] == 1:\n",
    "        tp+=1\n",
    "    else:\n",
    "        fn+=1\n",
    "        \n",
    "    return (tp, fp, fn, tn)\n",
    "\n",
    "new_a = df_a.apply(condition, axis=1)\n",
    "t_p,f_n,f_p,t_n = [], [], [], []\n",
    "for a,b,c,d in new_a:\n",
    "    t_p.append(a)\n",
    "    f_n.append(b)\n",
    "    f_p.append(c)\n",
    "    t_n.append(d)\n",
    "    \n",
    "tp,fn,fp,tn = sum(t_p), sum(f_n),sum(f_p),sum(t_n)\n",
    "#print(tp,fn,fp,tn)\n",
    "precision = tp / (tp + fp)\n",
    "recall = tp / (tp + fn)\n",
    "f1_score = (2*precision*recall) / (precision + recall)\n",
    "confusion_matrix = [[tp, fp],[fn,tn]]\n",
    "accuracy_score = (tp + tn)/len(df_a['proba'])\n",
    "\n",
    "print('The confusion matrix is:', confusion_matrix, '\\nThe precision and recall is:', precision,\n",
    "      'and' ,recall, '\\nThe f1 score and accuracy score is', f1_score, 'and', 'accuracy_score', accuracy_score)"
   ]
  },
  {
   "cell_type": "code",
   "execution_count": 19,
   "metadata": {},
   "outputs": [],
   "source": [
    "#this will calculate the tpr and fpr arrays to calculate the AUC through np.trapz\n",
    "\n",
    "def Area_under_curve(dataset):\n",
    "    uniq_prob = list(set(dataset['proba'].sort_values( ascending=False)))\n",
    "\n",
    "    probab_results = []\n",
    "    for threshold in uniq_prob:\n",
    "        ptr = [0.0 if prob < threshold else 1.0 for prob in dataset['proba']]\n",
    "        probab_results.append(ptr)\n",
    "\n",
    "    tpr = []\n",
    "    fpr = []\n",
    "\n",
    "    for arr in probab_results:\n",
    "        tp = 0\n",
    "        tn = 0\n",
    "        fp = 0\n",
    "        fn = 0\n",
    "\n",
    "        for i, j in zip(dataset['y'], arr):\n",
    "            if i == 1.0 and j==1.0:\n",
    "                tp += 1\n",
    "            elif i == 0 and j == 0:\n",
    "                tn += 1\n",
    "            elif i == 0 and j == 1:\n",
    "                fp += 1\n",
    "            else:\n",
    "                fn += 1  \n",
    "                \n",
    "        truePR = tp / (tp + fn)\n",
    "        falsePR = fp / (fp + tn)\n",
    "        tpr.append(truePR)\n",
    "        fpr.append(falsePR)\n",
    "    tpr = np.array(sorted(tpr))\n",
    "    fpr = np.array(sorted(fpr))\n",
    "    \n",
    "    return np.trapz(tpr, fpr), tpr, fpr\n"
   ]
  },
  {
   "cell_type": "code",
   "execution_count": 20,
   "metadata": {},
   "outputs": [
    {
     "name": "stdout",
     "output_type": "stream",
     "text": [
      "The area under the curve is: 0.48829900000000004\n"
     ]
    }
   ],
   "source": [
    "auc, tpr, fpr = Area_under_curve(df_a)\n",
    "print('The area under the curve is:', auc)"
   ]
  },
  {
   "cell_type": "code",
   "execution_count": 11,
   "metadata": {},
   "outputs": [
    {
     "data": {
      "text/plain": [
       "Text(0.5,1,'ROC curve for task A')"
      ]
     },
     "execution_count": 11,
     "metadata": {},
     "output_type": "execute_result"
    },
    {
     "data": {
      "image/png": "[encoded data removed]",
      "text/plain": [
       "<Figure size 432x288 with 1 Axes>"
      ]
     },
     "metadata": {},
     "output_type": "display_data"
    }
   ],
   "source": [
    "# we plot the roc curve, which is fpr vs tpr\n",
    "plt.plot(fpr, tpr)\n",
    "plt.xlabel(\"False positive rate\")\n",
    "plt.ylabel(\"True positive rate\")\n",
    "plt.title(\"ROC curve for task A\")"
   ]
  },
  {
   "cell_type": "markdown",
   "metadata": {},
   "source": [
    "## Task B"
   ]
  },
  {
   "cell_type": "code",
   "execution_count": 21,
   "metadata": {},
   "outputs": [
    {
     "data": {
      "text/html": [
       "<div>\n",
       "<style scoped>\n",
       "    .dataframe tbody tr th:only-of-type {\n",
       "        vertical-align: middle;\n",
       "    }\n",
       "\n",
       "    .dataframe tbody tr th {\n",
       "        vertical-align: top;\n",
       "    }\n",
       "\n",
       "    .dataframe thead th {\n",
       "        text-align: right;\n",
       "    }\n",
       "</style>\n",
       "<table border=\"1\" class=\"dataframe\">\n",
       "  <thead>\n",
       "    <tr style=\"text-align: right;\">\n",
       "      <th></th>\n",
       "      <th>y</th>\n",
       "      <th>proba</th>\n",
       "    </tr>\n",
       "  </thead>\n",
       "  <tbody>\n",
       "    <tr>\n",
       "      <th>0</th>\n",
       "      <td>0.0</td>\n",
       "      <td>0.281035</td>\n",
       "    </tr>\n",
       "    <tr>\n",
       "      <th>1</th>\n",
       "      <td>0.0</td>\n",
       "      <td>0.465152</td>\n",
       "    </tr>\n",
       "    <tr>\n",
       "      <th>2</th>\n",
       "      <td>0.0</td>\n",
       "      <td>0.352793</td>\n",
       "    </tr>\n",
       "    <tr>\n",
       "      <th>3</th>\n",
       "      <td>0.0</td>\n",
       "      <td>0.157818</td>\n",
       "    </tr>\n",
       "    <tr>\n",
       "      <th>4</th>\n",
       "      <td>0.0</td>\n",
       "      <td>0.276648</td>\n",
       "    </tr>\n",
       "  </tbody>\n",
       "</table>\n",
       "</div>"
      ],
      "text/plain": [
       "     y     proba\n",
       "0  0.0  0.281035\n",
       "1  0.0  0.465152\n",
       "2  0.0  0.352793\n",
       "3  0.0  0.157818\n",
       "4  0.0  0.276648"
      ]
     },
     "execution_count": 21,
     "metadata": {},
     "output_type": "execute_result"
    }
   ],
   "source": [
    "#Task b is same as task a, given the dataset only changes \n",
    "df_b=pd.read_csv('5_b.csv')\n",
    "df_b.head()"
   ]
  },
  {
   "cell_type": "code",
   "execution_count": 22,
   "metadata": {},
   "outputs": [
    {
     "data": {
      "text/html": [
       "<div>\n",
       "<style scoped>\n",
       "    .dataframe tbody tr th:only-of-type {\n",
       "        vertical-align: middle;\n",
       "    }\n",
       "\n",
       "    .dataframe tbody tr th {\n",
       "        vertical-align: top;\n",
       "    }\n",
       "\n",
       "    .dataframe thead th {\n",
       "        text-align: right;\n",
       "    }\n",
       "</style>\n",
       "<table border=\"1\" class=\"dataframe\">\n",
       "  <thead>\n",
       "    <tr style=\"text-align: right;\">\n",
       "      <th></th>\n",
       "      <th>y</th>\n",
       "      <th>proba</th>\n",
       "      <th>y_cap</th>\n",
       "    </tr>\n",
       "  </thead>\n",
       "  <tbody>\n",
       "    <tr>\n",
       "      <th>0</th>\n",
       "      <td>0.0</td>\n",
       "      <td>0.281035</td>\n",
       "      <td>0</td>\n",
       "    </tr>\n",
       "    <tr>\n",
       "      <th>1</th>\n",
       "      <td>0.0</td>\n",
       "      <td>0.465152</td>\n",
       "      <td>0</td>\n",
       "    </tr>\n",
       "    <tr>\n",
       "      <th>2</th>\n",
       "      <td>0.0</td>\n",
       "      <td>0.352793</td>\n",
       "      <td>0</td>\n",
       "    </tr>\n",
       "    <tr>\n",
       "      <th>3</th>\n",
       "      <td>0.0</td>\n",
       "      <td>0.157818</td>\n",
       "      <td>0</td>\n",
       "    </tr>\n",
       "    <tr>\n",
       "      <th>4</th>\n",
       "      <td>0.0</td>\n",
       "      <td>0.276648</td>\n",
       "      <td>0</td>\n",
       "    </tr>\n",
       "  </tbody>\n",
       "</table>\n",
       "</div>"
      ],
      "text/plain": [
       "     y     proba  y_cap\n",
       "0  0.0  0.281035      0\n",
       "1  0.0  0.465152      0\n",
       "2  0.0  0.352793      0\n",
       "3  0.0  0.157818      0\n",
       "4  0.0  0.276648      0"
      ]
     },
     "execution_count": 22,
     "metadata": {},
     "output_type": "execute_result"
    }
   ],
   "source": [
    "def threshold(dataset):\n",
    "    \n",
    "    if dataset['proba'] >= 0.5:\n",
    "        y_cap = int(1)\n",
    "    else:\n",
    "        y_cap = int(0)\n",
    "    return y_cap\n",
    "\n",
    "df_b['y_cap'] = df_b.apply(threshold, axis = 1)\n",
    "df_b.head()"
   ]
  },
  {
   "cell_type": "code",
   "execution_count": 23,
   "metadata": {},
   "outputs": [
    {
     "name": "stdout",
     "output_type": "stream",
     "text": [
      "The confusion matrix is: [[55, 45], [239, 9761]] \n",
      "The precision and recall is: 0.55 and 0.1870748299319728 \n",
      "The f1 score and accuracy score is 0.2791878172588833 and accuracy_score 0.9718811881188119\n"
     ]
    }
   ],
   "source": [
    "# will use the condition fuction from above\n",
    "new_b = df_b.apply(condition, axis=1)\n",
    "t_p,f_n,f_p,t_n = [], [], [], []\n",
    "for a,b,c,d in new_b:\n",
    "    t_p.append(a)\n",
    "    f_n.append(b)\n",
    "    f_p.append(c)\n",
    "    t_n.append(d)\n",
    "    \n",
    "tp,fn,fp,tn = sum(t_p), sum(f_n),sum(f_p),sum(t_n)\n",
    "#print(tp,fn,fp,tn)\n",
    "precision = tp / (tp + fp)\n",
    "recall = tp / (tp + fn)\n",
    "f1_score = (2*precision*recall) / (precision + recall)\n",
    "confusion_matrix = [[tp, fp],[fn,tn]]\n",
    "accuracy_score = (tp + tn)/len(df_a['proba'])\n",
    "\n",
    "print('The confusion matrix is:', confusion_matrix, '\\nThe precision and recall is:', precision ,'and' ,recall, '\\nThe f1 score and accuracy score is', f1_score, 'and', 'accuracy_score', accuracy_score)"
   ]
  },
  {
   "cell_type": "code",
   "execution_count": 24,
   "metadata": {},
   "outputs": [],
   "source": [
    "def Area_under_curve(dataset):\n",
    "    uniq_prob = list(set(dataset['proba'].sort_values( ascending=False)))\n",
    "\n",
    "    probab_results = []\n",
    "    for threshold in uniq_prob:\n",
    "        ptr = [0.0 if prob < threshold else 1.0 for prob in dataset['proba']]\n",
    "        probab_results.append(ptr)\n",
    "\n",
    "    tpr = []\n",
    "    fpr = []\n",
    "\n",
    "    for arr in probab_results:\n",
    "        tp = 0\n",
    "        tn = 0\n",
    "        fp = 0\n",
    "        fn = 0\n",
    "\n",
    "        for i, j in zip(dataset['y'], arr):\n",
    "            if i == 1.0 and j==1.0:\n",
    "                tp += 1\n",
    "            elif i == 0 and j == 0:\n",
    "                tn += 1\n",
    "            elif i == 0 and j == 1:\n",
    "                fp += 1\n",
    "            else:\n",
    "                fn += 1  \n",
    "                \n",
    "        truePR = tp / (tp + fn)\n",
    "        falsePR = fp / (fp + tn)\n",
    "        tpr.append(truePR)\n",
    "        fpr.append(falsePR)\n",
    "    tpr = np.array(sorted(tpr))\n",
    "    fpr = np.array(sorted(fpr))\n",
    "    \n",
    "    return np.trapz(tpr, fpr), tpr, fpr\n"
   ]
  },
  {
   "cell_type": "code",
   "execution_count": 26,
   "metadata": {},
   "outputs": [
    {
     "name": "stdout",
     "output_type": "stream",
     "text": [
      "The area under the curve is: 0.9377570000000001\n"
     ]
    }
   ],
   "source": [
    "auc, tpr, fpr = Area_under_curve(df_b)\n",
    "print('The area under the curve is:', auc)"
   ]
  },
  {
   "cell_type": "code",
   "execution_count": 27,
   "metadata": {},
   "outputs": [
    {
     "data": {
      "text/plain": [
       "Text(0.5,1,'ROC curve for task b')"
      ]
     },
     "execution_count": 27,
     "metadata": {},
     "output_type": "execute_result"
    },
    {
     "data": {
      "image/png": "[encoded data removed]",
      "text/plain": [
       "<Figure size 432x288 with 1 Axes>"
      ]
     },
     "metadata": {},
     "output_type": "display_data"
    }
   ],
   "source": [
    "plt.plot(fpr, tpr)\n",
    "plt.xlabel(\"False positive rate\")\n",
    "plt.ylabel(\"True positive rate\")\n",
    "plt.title(\"ROC curve for task b\")"
   ]
  },
  {
   "cell_type": "markdown",
   "metadata": {},
   "source": [
    "## Task C"
   ]
  },
  {
   "cell_type": "code",
   "execution_count": 29,
   "metadata": {},
   "outputs": [
    {
     "data": {
      "text/html": [
       "<div>\n",
       "<style scoped>\n",
       "    .dataframe tbody tr th:only-of-type {\n",
       "        vertical-align: middle;\n",
       "    }\n",
       "\n",
       "    .dataframe tbody tr th {\n",
       "        vertical-align: top;\n",
       "    }\n",
       "\n",
       "    .dataframe thead th {\n",
       "        text-align: right;\n",
       "    }\n",
       "</style>\n",
       "<table border=\"1\" class=\"dataframe\">\n",
       "  <thead>\n",
       "    <tr style=\"text-align: right;\">\n",
       "      <th></th>\n",
       "      <th>y</th>\n",
       "      <th>prob</th>\n",
       "    </tr>\n",
       "  </thead>\n",
       "  <tbody>\n",
       "    <tr>\n",
       "      <th>0</th>\n",
       "      <td>0</td>\n",
       "      <td>0.458521</td>\n",
       "    </tr>\n",
       "    <tr>\n",
       "      <th>1</th>\n",
       "      <td>0</td>\n",
       "      <td>0.505037</td>\n",
       "    </tr>\n",
       "    <tr>\n",
       "      <th>2</th>\n",
       "      <td>0</td>\n",
       "      <td>0.418652</td>\n",
       "    </tr>\n",
       "    <tr>\n",
       "      <th>3</th>\n",
       "      <td>0</td>\n",
       "      <td>0.412057</td>\n",
       "    </tr>\n",
       "    <tr>\n",
       "      <th>4</th>\n",
       "      <td>0</td>\n",
       "      <td>0.375579</td>\n",
       "    </tr>\n",
       "  </tbody>\n",
       "</table>\n",
       "</div>"
      ],
      "text/plain": [
       "   y      prob\n",
       "0  0  0.458521\n",
       "1  0  0.505037\n",
       "2  0  0.418652\n",
       "3  0  0.412057\n",
       "4  0  0.375579"
      ]
     },
     "execution_count": 29,
     "metadata": {},
     "output_type": "execute_result"
    }
   ],
   "source": [
    "df_c = pd.read_csv('5_c.csv')\n",
    "df_c.head()"
   ]
  },
  {
   "cell_type": "code",
   "execution_count": 30,
   "metadata": {},
   "outputs": [],
   "source": [
    "#unique prob values for using as thresholds\n",
    "uniq_prob = list(set(df_c['prob'].sort_values( ascending=False)))"
   ]
  },
  {
   "cell_type": "code",
   "execution_count": 31,
   "metadata": {},
   "outputs": [],
   "source": [
    "#In this we will use the unique prob values as thresolds and calulate the minimum value of 'X' that gives us the threshold\n",
    "#and the threshold value\n",
    "\n",
    "def best_threshold(dataset):\n",
    "    \n",
    "    \n",
    "    prob_results = []\n",
    "    for threshold in uniq_prob:\n",
    "        ptr = [0.0 if prob < threshold else 1.0 for prob in dataset['prob']]\n",
    "        prob_results.append(ptr)\n",
    "\n",
    "    X = []\n",
    "\n",
    "    for arr in prob_results:\n",
    "        fp = 0\n",
    "        fn = 0\n",
    "\n",
    "        for i, j in zip(dataset['y'], arr):\n",
    "            if i == 1.0 and j == 0.0:\n",
    "                fn += 1\n",
    "            elif i == 0.0 and j == 1.0:\n",
    "                fp += 1\n",
    "        x = (500 * fn) + (100 * fp)\n",
    "        X.append(x)\n",
    "\n",
    "    min_x = min(X)\n",
    "    index = X.index(min_x)\n",
    "    uniq_prob[index]\n",
    "    print(\"the minimum value of 'X' is: \", min_x, \"\\nand the threshold value corresponing to it is: \", uniq_prob[index])\n",
    "\n",
    "    return uniq_prob[index]\n",
    "\n"
   ]
  },
  {
   "cell_type": "code",
   "execution_count": 32,
   "metadata": {},
   "outputs": [
    {
     "name": "stdout",
     "output_type": "stream",
     "text": [
      "the minimum value of 'X' is:  141000 \n",
      "and the threshold value corresponing to it is:  0.2300390278970873\n"
     ]
    },
    {
     "data": {
      "text/plain": [
       "0.2300390278970873"
      ]
     },
     "execution_count": 32,
     "metadata": {},
     "output_type": "execute_result"
    }
   ],
   "source": [
    "best_threshold(df_c)"
   ]
  },
  {
   "cell_type": "markdown",
   "metadata": {},
   "source": [
    "## Task D"
   ]
  },
  {
   "cell_type": "code",
   "execution_count": 5,
   "metadata": {},
   "outputs": [
    {
     "data": {
      "text/html": [
       "<div>\n",
       "<style scoped>\n",
       "    .dataframe tbody tr th:only-of-type {\n",
       "        vertical-align: middle;\n",
       "    }\n",
       "\n",
       "    .dataframe tbody tr th {\n",
       "        vertical-align: top;\n",
       "    }\n",
       "\n",
       "    .dataframe thead th {\n",
       "        text-align: right;\n",
       "    }\n",
       "</style>\n",
       "<table border=\"1\" class=\"dataframe\">\n",
       "  <thead>\n",
       "    <tr style=\"text-align: right;\">\n",
       "      <th></th>\n",
       "      <th>y</th>\n",
       "      <th>pred</th>\n",
       "    </tr>\n",
       "  </thead>\n",
       "  <tbody>\n",
       "    <tr>\n",
       "      <th>0</th>\n",
       "      <td>101.0</td>\n",
       "      <td>100.0</td>\n",
       "    </tr>\n",
       "    <tr>\n",
       "      <th>1</th>\n",
       "      <td>120.0</td>\n",
       "      <td>100.0</td>\n",
       "    </tr>\n",
       "    <tr>\n",
       "      <th>2</th>\n",
       "      <td>131.0</td>\n",
       "      <td>113.0</td>\n",
       "    </tr>\n",
       "    <tr>\n",
       "      <th>3</th>\n",
       "      <td>164.0</td>\n",
       "      <td>125.0</td>\n",
       "    </tr>\n",
       "    <tr>\n",
       "      <th>4</th>\n",
       "      <td>154.0</td>\n",
       "      <td>152.0</td>\n",
       "    </tr>\n",
       "  </tbody>\n",
       "</table>\n",
       "</div>"
      ],
      "text/plain": [
       "       y   pred\n",
       "0  101.0  100.0\n",
       "1  120.0  100.0\n",
       "2  131.0  113.0\n",
       "3  164.0  125.0\n",
       "4  154.0  152.0"
      ]
     },
     "execution_count": 5,
     "metadata": {},
     "output_type": "execute_result"
    }
   ],
   "source": [
    "df_d = pd.read_csv('5_d.csv')\n",
    "df_d.head()"
   ]
  },
  {
   "cell_type": "code",
   "execution_count": 33,
   "metadata": {},
   "outputs": [],
   "source": [
    "#In this we calculate different parameters for regression like mean square error (mse), mean absolute percentage error (mape)\n",
    "# and r square error\n",
    "\n",
    "def regression(dataset):\n",
    "    \n",
    "    y_mean = sum(np.array(dataset['y']))/len(dataset)\n",
    "    mse = 0\n",
    "    for i in range(len(dataset)):\n",
    "        mse_0 = (dataset['y'][i] - dataset['pred'][i])**2\n",
    "        mse += mse_0\n",
    "    mse = mse/len(dataset)\n",
    "    mse\n",
    "\n",
    "    mape = 0\n",
    "    for i in range(len(dataset)):\n",
    "        mape_0 = np.abs(dataset['y'][i] - dataset['pred'][i])\n",
    "        mape += mape_0\n",
    "    mape = mape/(len(dataset) * y_mean)\n",
    "    mape\n",
    "\n",
    "    # coefficient of determination\n",
    "    cod = len(dataset) * mse\n",
    "\n",
    "    rsq = []\n",
    "    for i in dataset['y']:\n",
    "        rsq.append((i-y_mean)**2)\n",
    "    rsq = (sum(rsq))\n",
    "    r_sqre = 1 - (cod/rsq)\n",
    "\n",
    "    print(\"Mean Squared error is: \", mse, \"\\nMean Absolute Percentage Error is: \", mape, \"\\nand the R-Squared value is: \", r_sqre)"
   ]
  },
  {
   "cell_type": "code",
   "execution_count": 34,
   "metadata": {},
   "outputs": [
    {
     "name": "stdout",
     "output_type": "stream",
     "text": [
      "Mean Squared error is:  177.16569974554707 \n",
      "Mean Absolute Percentage Error is:  0.1291202994009687 \n",
      "and the R-Squared value is:  0.9563582786990964\n"
     ]
    }
   ],
   "source": [
    "regression(df_d)"
   ]
  },
  {
   "cell_type": "code",
   "execution_count": null,
   "metadata": {},
   "outputs": [],
   "source": []
  }
 ],
 "metadata": {
  "kernelspec": {
   "display_name": "Python 3",
   "language": "python",
   "name": "python3"
  },
  "language_info": {
   "codemirror_mode": {
    "name": "ipython",
    "version": 3
   },
   "file_extension": ".py",
   "mimetype": "text/x-python",
   "name": "python",
   "nbconvert_exporter": "python",
   "pygments_lexer": "ipython3",
   "version": "3.6.5"
  }
 },
 "nbformat": 4,
 "nbformat_minor": 2
}
